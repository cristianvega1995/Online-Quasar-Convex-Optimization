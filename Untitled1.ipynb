{
 "cells": [
  {
   "cell_type": "code",
   "execution_count": 4,
   "id": "0698674b",
   "metadata": {},
   "outputs": [
    {
     "ename": "AgeRestrictedError",
     "evalue": "74Qm5kcHc3E is age restricted, and can't be accessed without logging in.",
     "output_type": "error",
     "traceback": [
      "\u001b[1;31m---------------------------------------------------------------------------\u001b[0m",
      "\u001b[1;31mAgeRestrictedError\u001b[0m                        Traceback (most recent call last)",
      "Cell \u001b[1;32mIn[4], line 21\u001b[0m\n\u001b[0;32m     18\u001b[0m \texit()\n\u001b[0;32m     19\u001b[0m \u001b[38;5;66;03m# Descargamos la versión del video con mayor calidad\u001b[39;00m\n\u001b[0;32m     20\u001b[0m \u001b[38;5;66;03m# Las versiones progresivas incluyen el audio y el video juntos\u001b[39;00m\n\u001b[1;32m---> 21\u001b[0m prog_stream_list \u001b[38;5;241m=\u001b[39m yt\u001b[38;5;241m.\u001b[39mstreams\u001b[38;5;241m.\u001b[39mfilter(progressive\u001b[38;5;241m=\u001b[39m\u001b[38;5;28;01mFalse\u001b[39;00m)\n\u001b[0;32m     22\u001b[0m stream \u001b[38;5;241m=\u001b[39m prog_stream_list\u001b[38;5;241m.\u001b[39morder_by(\u001b[38;5;124m'\u001b[39m\u001b[38;5;124mresolution\u001b[39m\u001b[38;5;124m'\u001b[39m)\u001b[38;5;241m.\u001b[39mfirst()\n\u001b[0;32m     23\u001b[0m \u001b[38;5;28mprint\u001b[39m(\u001b[38;5;124mf\u001b[39m\u001b[38;5;124m'\u001b[39m\u001b[38;5;124mDescargando el video: \u001b[39m\u001b[38;5;124m\"\u001b[39m\u001b[38;5;132;01m{\u001b[39;00mstream\u001b[38;5;241m.\u001b[39mtitle\u001b[38;5;132;01m}\u001b[39;00m\u001b[38;5;124m\"\u001b[39m\u001b[38;5;124m...\u001b[39m\u001b[38;5;124m'\u001b[39m)\n",
      "File \u001b[1;32m~\\anaconda3\\Lib\\site-packages\\pytube\\__main__.py:296\u001b[0m, in \u001b[0;36mYouTube.streams\u001b[1;34m(self)\u001b[0m\n\u001b[0;32m    291\u001b[0m \u001b[38;5;250m\u001b[39m\u001b[38;5;124;03m\"\"\"Interface to query both adaptive (DASH) and progressive streams.\u001b[39;00m\n\u001b[0;32m    292\u001b[0m \n\u001b[0;32m    293\u001b[0m \u001b[38;5;124;03m:rtype: :class:`StreamQuery <StreamQuery>`.\u001b[39;00m\n\u001b[0;32m    294\u001b[0m \u001b[38;5;124;03m\"\"\"\u001b[39;00m\n\u001b[0;32m    295\u001b[0m \u001b[38;5;28mself\u001b[39m\u001b[38;5;241m.\u001b[39mcheck_availability()\n\u001b[1;32m--> 296\u001b[0m \u001b[38;5;28;01mreturn\u001b[39;00m StreamQuery(\u001b[38;5;28mself\u001b[39m\u001b[38;5;241m.\u001b[39mfmt_streams)\n",
      "File \u001b[1;32m~\\anaconda3\\Lib\\site-packages\\pytube\\__main__.py:176\u001b[0m, in \u001b[0;36mYouTube.fmt_streams\u001b[1;34m(self)\u001b[0m\n\u001b[0;32m    172\u001b[0m     \u001b[38;5;28;01mreturn\u001b[39;00m \u001b[38;5;28mself\u001b[39m\u001b[38;5;241m.\u001b[39m_fmt_streams\n\u001b[0;32m    174\u001b[0m \u001b[38;5;28mself\u001b[39m\u001b[38;5;241m.\u001b[39m_fmt_streams \u001b[38;5;241m=\u001b[39m []\n\u001b[1;32m--> 176\u001b[0m stream_manifest \u001b[38;5;241m=\u001b[39m extract\u001b[38;5;241m.\u001b[39mapply_descrambler(\u001b[38;5;28mself\u001b[39m\u001b[38;5;241m.\u001b[39mstreaming_data)\n\u001b[0;32m    178\u001b[0m \u001b[38;5;66;03m# If the cached js doesn't work, try fetching a new js file\u001b[39;00m\n\u001b[0;32m    179\u001b[0m \u001b[38;5;66;03m# https://github.com/pytube/pytube/issues/1054\u001b[39;00m\n\u001b[0;32m    180\u001b[0m \u001b[38;5;28;01mtry\u001b[39;00m:\n",
      "File \u001b[1;32m~\\anaconda3\\Lib\\site-packages\\pytube\\__main__.py:160\u001b[0m, in \u001b[0;36mYouTube.streaming_data\u001b[1;34m(self)\u001b[0m\n\u001b[0;32m    158\u001b[0m     \u001b[38;5;28;01mreturn\u001b[39;00m \u001b[38;5;28mself\u001b[39m\u001b[38;5;241m.\u001b[39mvid_info[\u001b[38;5;124m'\u001b[39m\u001b[38;5;124mstreamingData\u001b[39m\u001b[38;5;124m'\u001b[39m]\n\u001b[0;32m    159\u001b[0m \u001b[38;5;28;01melse\u001b[39;00m:\n\u001b[1;32m--> 160\u001b[0m     \u001b[38;5;28mself\u001b[39m\u001b[38;5;241m.\u001b[39mbypass_age_gate()\n\u001b[0;32m    161\u001b[0m     \u001b[38;5;28;01mreturn\u001b[39;00m \u001b[38;5;28mself\u001b[39m\u001b[38;5;241m.\u001b[39mvid_info[\u001b[38;5;124m'\u001b[39m\u001b[38;5;124mstreamingData\u001b[39m\u001b[38;5;124m'\u001b[39m]\n",
      "File \u001b[1;32m~\\anaconda3\\Lib\\site-packages\\pytube\\__main__.py:264\u001b[0m, in \u001b[0;36mYouTube.bypass_age_gate\u001b[1;34m(self)\u001b[0m\n\u001b[0;32m    261\u001b[0m \u001b[38;5;66;03m# If we still can't access the video, raise an exception\u001b[39;00m\n\u001b[0;32m    262\u001b[0m \u001b[38;5;66;03m# (tier 3 age restriction)\u001b[39;00m\n\u001b[0;32m    263\u001b[0m \u001b[38;5;28;01mif\u001b[39;00m playability_status \u001b[38;5;241m==\u001b[39m \u001b[38;5;124m'\u001b[39m\u001b[38;5;124mUNPLAYABLE\u001b[39m\u001b[38;5;124m'\u001b[39m:\n\u001b[1;32m--> 264\u001b[0m     \u001b[38;5;28;01mraise\u001b[39;00m exceptions\u001b[38;5;241m.\u001b[39mAgeRestrictedError(\u001b[38;5;28mself\u001b[39m\u001b[38;5;241m.\u001b[39mvideo_id)\n\u001b[0;32m    266\u001b[0m \u001b[38;5;28mself\u001b[39m\u001b[38;5;241m.\u001b[39m_vid_info \u001b[38;5;241m=\u001b[39m innertube_response\n",
      "\u001b[1;31mAgeRestrictedError\u001b[0m: 74Qm5kcHc3E is age restricted, and can't be accessed without logging in."
     ]
    }
   ],
   "source": [
    "# Códigos Python: Descargar video de YouTube\n",
    "# Desarrollado por Leandro Barone\n",
    "# Complejidad del código: ★★☆☆☆\n",
    "import pytube # pip install pytube\n",
    "import sys\n",
    "\n",
    "# Tomamos la URL del primer argumento del script, por ejemplo:\n",
    "# python descargar_video.py https://youtube.com/watch?v=...\n",
    "try:\n",
    "\turl = 'https://www.youtube.com/watch?v=74Qm5kcHc3E&list=WL&index=8'\n",
    "except:\n",
    "\turl = 'https://www.youtube.com/watch?v=74Qm5kcHc3E&list=WL&index=8'\n",
    "# Abrimos la URL con pytube\n",
    "try:\n",
    "\tyt = pytube.YouTube(url)\n",
    "except pytube.exceptions.RegexMatchError:\n",
    "\tprint(f'La URL especificada no es válida: {url}')\n",
    "\texit()\n",
    "# Descargamos la versión del video con mayor calidad\n",
    "# Las versiones progresivas incluyen el audio y el video juntos\n",
    "prog_stream_list = yt.streams.filter(progressive=False)\n",
    "stream = prog_stream_list.order_by('resolution').first()\n",
    "print(f'Descargando el video: \"{stream.title}\"...')\n",
    "stream.download()"
   ]
  },
  {
   "cell_type": "code",
   "execution_count": 2,
   "id": "c67bf6fe",
   "metadata": {},
   "outputs": [
    {
     "name": "stdout",
     "output_type": "stream",
     "text": [
      "Collecting pytube\n",
      "  Downloading pytube-15.0.0-py3-none-any.whl (57 kB)\n",
      "     ---------------------------------------- 0.0/57.6 kB ? eta -:--:--\n",
      "     ------- -------------------------------- 10.2/57.6 kB ? eta -:--:--\n",
      "     ------- -------------------------------- 10.2/57.6 kB ? eta -:--:--\n",
      "     ------- -------------------------------- 10.2/57.6 kB ? eta -:--:--\n",
      "     ------- -------------------------------- 10.2/57.6 kB ? eta -:--:--\n",
      "     ------- -------------------------------- 10.2/57.6 kB ? eta -:--:--\n",
      "     ------- -------------------------------- 10.2/57.6 kB ? eta -:--:--\n",
      "     -------------------- ------------------ 30.7/57.6 kB 69.0 kB/s eta 0:00:01\n",
      "     --------------------------- ----------- 41.0/57.6 kB 89.3 kB/s eta 0:00:01\n",
      "     --------------------------------- ---- 51.2/57.6 kB 100.9 kB/s eta 0:00:01\n",
      "     -------------------------------------- 57.6/57.6 kB 108.4 kB/s eta 0:00:00\n",
      "Installing collected packages: pytube\n",
      "Successfully installed pytube-15.0.0\n"
     ]
    }
   ],
   "source": [
    "!pip install pytube"
   ]
  },
  {
   "cell_type": "code",
   "execution_count": 1,
   "id": "9921be56",
   "metadata": {},
   "outputs": [
    {
     "ename": "ImportError",
     "evalue": "cannot import name 'AgeRestrictedError' from 'pytube' (C:\\Users\\cris_\\anaconda3\\Lib\\site-packages\\pytube\\__init__.py)",
     "output_type": "error",
     "traceback": [
      "\u001b[1;31m---------------------------------------------------------------------------\u001b[0m",
      "\u001b[1;31mImportError\u001b[0m                               Traceback (most recent call last)",
      "Cell \u001b[1;32mIn[1], line 2\u001b[0m\n\u001b[0;32m      1\u001b[0m \u001b[38;5;28;01mimport\u001b[39;00m \u001b[38;5;21;01mpytube\u001b[39;00m\n\u001b[1;32m----> 2\u001b[0m \u001b[38;5;28;01mfrom\u001b[39;00m \u001b[38;5;21;01mpytube\u001b[39;00m \u001b[38;5;28;01mimport\u001b[39;00m AgeRestrictedError\n\u001b[0;32m      4\u001b[0m \u001b[38;5;66;03m# Inserta tus credenciales de YouTube aquí\u001b[39;00m\n\u001b[0;32m      5\u001b[0m username \u001b[38;5;241m=\u001b[39m \u001b[38;5;124m\"\u001b[39m\u001b[38;5;124m@cristianvega1249\u001b[39m\u001b[38;5;124m\"\u001b[39m\n",
      "\u001b[1;31mImportError\u001b[0m: cannot import name 'AgeRestrictedError' from 'pytube' (C:\\Users\\cris_\\anaconda3\\Lib\\site-packages\\pytube\\__init__.py)"
     ]
    }
   ],
   "source": [
    "import pytube\n",
    "from pytube import AgeRestrictedError\n",
    "\n",
    "# Inserta tus credenciales de YouTube aquí\n",
    "username = \"@cristianvega1249\"\n",
    "password = \"Dontworry1891\"\n",
    "\n",
    "# URL del video restringido por edad\n",
    "url = 'https://www.youtube.com/watch?v=qmqmPZXrmeM&list=WL&index=13&t=270s'\n",
    "\n",
    "# Intenta autenticarte y descargar el video\n",
    "try:\n",
    "    yt = pytube.YouTube(url, on_progress_callback=lambda stream, chunk, file_handle, bytes_remaining: print(f\"{int(100 - bytes_remaining / stream.filesize * 100)}% descargado\"))\n",
    "    yt.register_on_age_restricted_error(lambda yt, url: yt.authenticate(username, password))\n",
    "    stream = yt.streams.get_highest_resolution()\n",
    "    print(f'Descargando el video: \"{stream.title}\"...')\n",
    "    stream.download()\n",
    "except AgeRestrictedError as e:\n",
    "    print(f'Error: {e}')\n",
    "except Exception as e:\n",
    "    print(f'Otro error: {e}')\n"
   ]
  },
  {
   "cell_type": "code",
   "execution_count": null,
   "id": "61752798",
   "metadata": {},
   "outputs": [],
   "source": []
  }
 ],
 "metadata": {
  "kernelspec": {
   "display_name": "Python 3 (ipykernel)",
   "language": "python",
   "name": "python3"
  },
  "language_info": {
   "codemirror_mode": {
    "name": "ipython",
    "version": 3
   },
   "file_extension": ".py",
   "mimetype": "text/x-python",
   "name": "python",
   "nbconvert_exporter": "python",
   "pygments_lexer": "ipython3",
   "version": "3.11.5"
  }
 },
 "nbformat": 4,
 "nbformat_minor": 5
}
